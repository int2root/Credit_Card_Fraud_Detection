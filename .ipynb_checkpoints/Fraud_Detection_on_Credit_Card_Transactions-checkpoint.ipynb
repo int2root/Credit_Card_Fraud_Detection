{
 "cells": [
  {
   "cell_type": "markdown",
   "metadata": {},
   "source": [
    "## Problem Statement\n",
    "\n",
    "Finance Industry is the biggest consumer of Data Scientists. It faces constant attack by fraudsters, who try to trick the system. Correctly identifying fraudulent transactions is often compared with finding needle in a haystack because of the low event rate. \n",
    "It is important that credit card companies are able to recognize fraudulent credit card transactions so that the customers are not charged for items that they did not purchase.\n",
    "You are required to try various techniques such as supervised models with oversampling, unsupervised anomaly detection, and heuristics to get good accuracy at fraud detection."
   ]
  },
  {
   "cell_type": "markdown",
   "metadata": {},
   "source": [
    "### Dataset Snapshot\n",
    "\n",
    "The datasets contain transactions made by credit cards in September 2013 by European cardholders. This dataset represents transactions that occurred in two days, where we have 492 frauds out of 284,807 transactions. The dataset is highly unbalanced, the positive class (frauds) account for 0.172% of all transactions.\n",
    "It contains only numerical input variables which are the result of a PCA transformation. \n",
    "Features V1, V2, ... V28 are the principal components obtained with PCA. \n",
    "The only features which have not been transformed with PCA are 'Time' and 'Amount'"
   ]
  },
  {
   "cell_type": "markdown",
   "metadata": {},
   "source": [
    "### Project Task: Week 1\n",
    "\n",
    "Exploratory Data Analysis (EDA):\n",
    "\n",
    "1. Perform an EDA on the Dataset.\n",
    "   1. Check all the latent features and parameters with their mean and standard deviation. Value are close to 0 centered (mean) with unit standard deviation\n",
    "   2. Find if there is any connection between Time, Amount, and the transaction being fraudulent.\n",
    "2. Check the class count for each class. It’s a class Imbalance problem.\n",
    "3. Use techniques like undersampling or oversampling before running Naïve Bayes, Logistic Regression or SVM.\n",
    "   1. Oversampling or undersampling can be used to tackle the class imbalance problem\n",
    "   2. Oversampling increases the prior probability of imbalanced class and in case of other classifiers, error gets multiplied as the low-proportionate class is mimicked multiple times.\n",
    "4. Following are the matrices for evaluating the model performance: Precision, Recall, F1-Score, AUC-ROC curve. Use F1-Score as the evaluation criteria for this project."
   ]
  },
  {
   "cell_type": "code",
   "execution_count": 1,
   "metadata": {},
   "outputs": [],
   "source": [
    "import pandas as pd\n",
    "import numpy as np\n",
    "import seaborn as sns\n",
    "import matplotlib.pyplot as plt\n",
    "%matplotlib inline\n",
    "\n",
    "from scipy import stats\n",
    "\n",
    "from sklearn.pipeline import Pipeline\n",
    "\n",
    "from sklearn.metrics import confusion_matrix, classification_report, f1_score, accuracy_score\n",
    "\n",
    "from sklearn.naive_bayes import GaussianNB\n",
    "from sklearn.linear_model import LogisticRegression\n",
    "from sklearn.ensemble import RandomForestClassifier\n",
    "\n",
    "from sklearn.model_selection import StratifiedKFold, GridSearchCV, cross_val_score\n",
    "\n",
    "from imblearn.pipeline import Pipeline as imPipeline\n",
    "from imblearn.over_sampling import RandomOverSampler, SMOTE\n",
    "from imblearn.under_sampling import RandomUnderSampler\n",
    "\n",
    "from xgboost import XGBClassifier\n",
    "\n",
    "import warnings\n",
    "warnings.filterwarnings('ignore')"
   ]
  },
  {
   "cell_type": "code",
   "execution_count": 2,
   "metadata": {},
   "outputs": [],
   "source": [
    "# V colums\n",
    "pca_vars = ['V%i' % k for k in range(1,29)]"
   ]
  },
  {
   "cell_type": "code",
   "execution_count": 3,
   "metadata": {},
   "outputs": [],
   "source": [
    "# load train data\n",
    "train_df = pd.read_csv('./Financial/train_data.csv')\n",
    "test_df = pd.read_csv('./Financial/test_data_hidden.csv')"
   ]
  },
  {
   "cell_type": "code",
   "execution_count": 4,
   "metadata": {},
   "outputs": [
    {
     "name": "stdout",
     "output_type": "stream",
     "text": [
      "<class 'pandas.core.frame.DataFrame'>\n",
      "RangeIndex: 227845 entries, 0 to 227844\n",
      "Data columns (total 31 columns):\n",
      " #   Column  Non-Null Count   Dtype  \n",
      "---  ------  --------------   -----  \n",
      " 0   Time    227845 non-null  float64\n",
      " 1   V1      227845 non-null  float64\n",
      " 2   V2      227845 non-null  float64\n",
      " 3   V3      227845 non-null  float64\n",
      " 4   V4      227845 non-null  float64\n",
      " 5   V5      227845 non-null  float64\n",
      " 6   V6      227845 non-null  float64\n",
      " 7   V7      227845 non-null  float64\n",
      " 8   V8      227845 non-null  float64\n",
      " 9   V9      227845 non-null  float64\n",
      " 10  V10     227845 non-null  float64\n",
      " 11  V11     227845 non-null  float64\n",
      " 12  V12     227845 non-null  float64\n",
      " 13  V13     227845 non-null  float64\n",
      " 14  V14     227845 non-null  float64\n",
      " 15  V15     227845 non-null  float64\n",
      " 16  V16     227845 non-null  float64\n",
      " 17  V17     227845 non-null  float64\n",
      " 18  V18     227845 non-null  float64\n",
      " 19  V19     227845 non-null  float64\n",
      " 20  V20     227845 non-null  float64\n",
      " 21  V21     227845 non-null  float64\n",
      " 22  V22     227845 non-null  float64\n",
      " 23  V23     227845 non-null  float64\n",
      " 24  V24     227845 non-null  float64\n",
      " 25  V25     227845 non-null  float64\n",
      " 26  V26     227845 non-null  float64\n",
      " 27  V27     227845 non-null  float64\n",
      " 28  V28     227845 non-null  float64\n",
      " 29  Amount  227845 non-null  float64\n",
      " 30  Class   227845 non-null  int64  \n",
      "dtypes: float64(30), int64(1)\n",
      "memory usage: 53.9 MB\n"
     ]
    }
   ],
   "source": [
    "train_df.info()"
   ]
  },
  {
   "cell_type": "markdown",
   "metadata": {},
   "source": [
    "# 1.0 Perform an EDA on the Dataset."
   ]
  },
  {
   "cell_type": "code",
   "execution_count": 5,
   "metadata": {},
   "outputs": [
    {
     "data": {
      "text/plain": [
       "Text(0.5, 1.0, 'V1-V28 Means')"
      ]
     },
     "execution_count": 5,
     "metadata": {},
     "output_type": "execute_result"
    },
    {
     "data": {
      "image/png": "[encoded data removed]",
      "text/plain": [
       "<Figure size 864x576 with 1 Axes>"
      ]
     },
     "metadata": {
      "needs_background": "light"
     },
     "output_type": "display_data"
    }
   ],
   "source": [
    "# plot the mean of v columns\n",
    "plt.figure(figsize=(12,8))\n",
    "sns.barplot(x=pca_vars, y=train_df[pca_vars].mean(), color='green')\n",
    "plt.xlabel('Column')\n",
    "plt.ylabel('Mean')\n",
    "plt.title('V1-V28 Means')"
   ]
  },
  {
   "cell_type": "markdown",
   "metadata": {},
   "source": [
    "### All of V1-V28 have approximately zero mean."
   ]
  },
  {
   "cell_type": "code",
   "execution_count": 6,
   "metadata": {},
   "outputs": [
    {
     "data": {
      "text/plain": [
       "Text(0.5, 1.0, 'V1-V28 Standard Deviation')"
      ]
     },
     "execution_count": 6,
     "metadata": {},
     "output_type": "execute_result"
    },
    {
     "data": {
      "image/png": "[encoded data removed]",
      "text/plain": [
       "<Figure size 864x576 with 1 Axes>"
      ]
     },
     "metadata": {
      "needs_background": "light"
     },
     "output_type": "display_data"
    }
   ],
   "source": [
    "# plot the std of v colums\n",
    "plt.figure(figsize=(12,8))\n",
    "sns.barplot(x=pca_vars, y=train_df[pca_vars].std(), color='blue')\n",
    "plt.xlabel('Column')\n",
    "plt.ylabel('Standard Deviation')\n",
    "plt.title('V1-V28 Standard Deviation')"
   ]
  },
  {
   "cell_type": "markdown",
   "metadata": {},
   "source": [
    "### The PCA variables have unit variance, but as low as ~0.4 and as high as ~1.9"
   ]
  },
  {
   "cell_type": "code",
   "execution_count": 7,
   "metadata": {},
   "outputs": [
    {
     "data": {
      "image/png": "[encoded data removed]",
      "text/plain": [
       "<Figure size 762.375x432 with 1 Axes>"
      ]
     },
     "metadata": {
      "needs_background": "light"
     },
     "output_type": "display_data"
    }
   ],
   "source": [
    "sns.lmplot('Time', 'Amount', train_df, hue='Class', fit_reg=False, height=6, aspect=10/6)\n",
    "plt.show()"
   ]
  },
  {
   "cell_type": "markdown",
   "metadata": {},
   "source": [
    "### The fraud transactions are small in amount"
   ]
  },
  {
   "cell_type": "code",
   "execution_count": 8,
   "metadata": {},
   "outputs": [
    {
     "data": {
      "text/plain": [
       "<matplotlib.axes._subplots.AxesSubplot at 0x7fc2089f3be0>"
      ]
     },
     "execution_count": 8,
     "metadata": {},
     "output_type": "execute_result"
    },
    {
     "data": {
      "image/png": "[encoded data removed]",
      "text/plain": [
       "<Figure size 432x288 with 2 Axes>"
      ]
     },
     "metadata": {
      "needs_background": "light"
     },
     "output_type": "display_data"
    }
   ],
   "source": [
    "# check correlation of Time and Amout columns with Class\n",
    "sns.heatmap(train_df[['Time', 'Amount', 'Class']].corr(), annot = True,square=True)"
   ]
  },
  {
   "cell_type": "markdown",
   "metadata": {},
   "source": [
    "# 2.0 Check the class count for each class. It’s a class Imbalance problem."
   ]
  },
  {
   "cell_type": "code",
   "execution_count": 9,
   "metadata": {},
   "outputs": [
    {
     "name": "stdout",
     "output_type": "stream",
     "text": [
      "No Frauds 99.83 % of the dataset, count( 227451 )\n",
      "Frauds 0.17 % of the dataset, count( 394 )\n"
     ]
    },
    {
     "data": {
      "image/png": "[encoded data removed]",
      "text/plain": [
       "<Figure size 432x288 with 1 Axes>"
      ]
     },
     "metadata": {
      "needs_background": "light"
     },
     "output_type": "display_data"
    }
   ],
   "source": [
    "# see the class imbalance\n",
    "def plot_class_balance(df):\n",
    "    vc = df['Class'].value_counts()\n",
    "    print('No Frauds', round(vc[0]/len(df) * 100,2), '% of the dataset, count(', vc[0], ')')\n",
    "    print('Frauds', round(vc[1]/len(df) * 100,2), '% of the dataset, count(', vc[1], ')')\n",
    "\n",
    "    sns.countplot(x=\"Class\", data=df) \n",
    "\n",
    "\n",
    "plot_class_balance(train_df)"
   ]
  },
  {
   "cell_type": "markdown",
   "metadata": {},
   "source": [
    "### Clearly the data is totally unbalanced!!"
   ]
  },
  {
   "cell_type": "markdown",
   "metadata": {},
   "source": [
    "# 3.0 Use techniques like undersampling or oversampling before running Naïve Bayes, Logistic Regression or SVM"
   ]
  },
  {
   "cell_type": "code",
   "execution_count": 10,
   "metadata": {},
   "outputs": [],
   "source": [
    "X = train_df.iloc[:, train_df.columns != 'Class']\n",
    "y = train_df.iloc[:, train_df.columns == 'Class']"
   ]
  },
  {
   "cell_type": "code",
   "execution_count": 11,
   "metadata": {},
   "outputs": [],
   "source": [
    "def getSamplingF1Score(name, steps):\n",
    "    # A traditional scikit-learn Pipeline cannot be used; instead, \n",
    "    # Pipeline from the imbalanced-learn library can be used\n",
    "    pl = imPipeline(steps=steps)\n",
    "    cv = StratifiedKFold(n_splits=10, random_state=1, shuffle=True)\n",
    "    scores = cross_val_score(pl, X, y, scoring='f1_macro', cv=cv, n_jobs=-1)\n",
    "    score = np.mean(scores)\n",
    "    print(f'{name} F1 Score: {score}')"
   ]
  },
  {
   "cell_type": "code",
   "execution_count": 12,
   "metadata": {},
   "outputs": [
    {
     "name": "stdout",
     "output_type": "stream",
     "text": [
      "GaussianNB :: Over-Sampling F1 Score: 0.5992209589167353\n",
      "GaussianNB :: Under-Sampling F1 Score: 0.591704473887136\n"
     ]
    }
   ],
   "source": [
    "# trying simple over sampling and under sampling\n",
    "over = RandomOverSampler()\n",
    "under = RandomUnderSampler()\n",
    "\n",
    "getSamplingF1Score('GaussianNB :: Over-Sampling', [\n",
    "    ('o', over), \n",
    "    ('model', GaussianNB())\n",
    "])\n",
    "getSamplingF1Score('GaussianNB :: Under-Sampling', [\n",
    "    ('u', under), \n",
    "    ('model', GaussianNB())\n",
    "])"
   ]
  },
  {
   "cell_type": "markdown",
   "metadata": {},
   "source": [
    "Over-sampling increases the prior probability of imbalanced class and in case of other classifiers, error gets multiplied as the low-proportionate class is mimicked multiple times.\n",
    "\n",
    "And also we can see Under-Sampling has a very low F1 score.\n",
    "\n",
    "#### SMOTE Technique (Over-Sampling):\n",
    "SMOTE stands for Synthetic Minority Over-sampling Technique. Unlike Random UnderSampling, SMOTE creates new synthetic points in order to have an equal balance of the classes. This is another alternative for solving the \"class imbalance problems\"."
   ]
  },
  {
   "cell_type": "code",
   "execution_count": 13,
   "metadata": {},
   "outputs": [
    {
     "name": "stdout",
     "output_type": "stream",
     "text": [
      "GaussianNB :: SMOTE-Sampling F1 Score: 0.6261386043636585\n"
     ]
    }
   ],
   "source": [
    "smote = SMOTE(sampling_strategy='minority')\n",
    "\n",
    "getSamplingF1Score('GaussianNB :: SMOTE-Sampling', [\n",
    "    ('s', smote), \n",
    "    ('model', GaussianNB())\n",
    "])"
   ]
  },
  {
   "cell_type": "code",
   "execution_count": 14,
   "metadata": {},
   "outputs": [
    {
     "name": "stdout",
     "output_type": "stream",
     "text": [
      "No Frauds 50.0 % of the dataset, count( 227451 )\n",
      "Frauds 50.0 % of the dataset, count( 227451 )\n"
     ]
    },
    {
     "data": {
      "image/png": "[encoded data removed]",
      "text/plain": [
       "<Figure size 432x288 with 1 Axes>"
      ]
     },
     "metadata": {
      "needs_background": "light"
     },
     "output_type": "display_data"
    }
   ],
   "source": [
    "# finally smote the data\n",
    "X_train_new, y_train_new = smote.fit_sample(X, y)\n",
    "new_df = X_train_new.copy()\n",
    "new_df['Class'] = y_train_new\n",
    "\n",
    "plot_class_balance(new_df)"
   ]
  },
  {
   "cell_type": "code",
   "execution_count": 15,
   "metadata": {},
   "outputs": [
    {
     "name": "stdout",
     "output_type": "stream",
     "text": [
      "<class 'pandas.core.frame.DataFrame'>\n",
      "RangeIndex: 454902 entries, 0 to 454901\n",
      "Data columns (total 31 columns):\n",
      " #   Column  Non-Null Count   Dtype  \n",
      "---  ------  --------------   -----  \n",
      " 0   Time    454902 non-null  float64\n",
      " 1   V1      454902 non-null  float64\n",
      " 2   V2      454902 non-null  float64\n",
      " 3   V3      454902 non-null  float64\n",
      " 4   V4      454902 non-null  float64\n",
      " 5   V5      454902 non-null  float64\n",
      " 6   V6      454902 non-null  float64\n",
      " 7   V7      454902 non-null  float64\n",
      " 8   V8      454902 non-null  float64\n",
      " 9   V9      454902 non-null  float64\n",
      " 10  V10     454902 non-null  float64\n",
      " 11  V11     454902 non-null  float64\n",
      " 12  V12     454902 non-null  float64\n",
      " 13  V13     454902 non-null  float64\n",
      " 14  V14     454902 non-null  float64\n",
      " 15  V15     454902 non-null  float64\n",
      " 16  V16     454902 non-null  float64\n",
      " 17  V17     454902 non-null  float64\n",
      " 18  V18     454902 non-null  float64\n",
      " 19  V19     454902 non-null  float64\n",
      " 20  V20     454902 non-null  float64\n",
      " 21  V21     454902 non-null  float64\n",
      " 22  V22     454902 non-null  float64\n",
      " 23  V23     454902 non-null  float64\n",
      " 24  V24     454902 non-null  float64\n",
      " 25  V25     454902 non-null  float64\n",
      " 26  V26     454902 non-null  float64\n",
      " 27  V27     454902 non-null  float64\n",
      " 28  V28     454902 non-null  float64\n",
      " 29  Amount  454902 non-null  float64\n",
      " 30  Class   454902 non-null  int64  \n",
      "dtypes: float64(30), int64(1)\n",
      "memory usage: 107.6 MB\n"
     ]
    }
   ],
   "source": [
    "new_df.info()"
   ]
  },
  {
   "cell_type": "markdown",
   "metadata": {},
   "source": [
    "# 4.0 Following are the matrices for evaluating the model performance: Precision, Recall, F1-Score, AUC-ROC curve. Use F1-Score as the evaluation criteria for this project."
   ]
  },
  {
   "cell_type": "code",
   "execution_count": 16,
   "metadata": {},
   "outputs": [],
   "source": [
    "X_train = new_df.iloc[:, new_df.columns != 'Class']\n",
    "y_train = new_df.iloc[:, new_df.columns == 'Class']\n",
    "\n",
    "X_test = test_df.iloc[:, test_df.columns != 'Class']\n",
    "y_test = test_df.iloc[:, test_df.columns == 'Class']"
   ]
  },
  {
   "cell_type": "code",
   "execution_count": 17,
   "metadata": {},
   "outputs": [
    {
     "name": "stdout",
     "output_type": "stream",
     "text": [
      "F1 Score 0.6160452742978555\n",
      "Cross Validation F1 Score: 0.6292561408877373\n"
     ]
    }
   ],
   "source": [
    "# F1-Score for Naïve Bayes (GaussianNB)\n",
    "cls_nb = GaussianNB()\n",
    "cls_nb.fit(X_train, y_train)\n",
    "\n",
    "y_pred = cls_nb.predict(X_test)\n",
    "f1 = f1_score(y_test, y_pred, average=\"macro\")\n",
    "\n",
    "print(\"F1 Score\", f1)\n",
    "\n",
    "cv = StratifiedKFold(n_splits=10, random_state=1, shuffle=True)\n",
    "scores = cross_val_score(cls_nb, X_test, y_test, scoring='f1_macro', cv=cv, n_jobs=-1)\n",
    "score = np.mean(scores)\n",
    "print(f'Cross Validation F1 Score: {score}')"
   ]
  },
  {
   "cell_type": "code",
   "execution_count": 18,
   "metadata": {},
   "outputs": [
    {
     "name": "stdout",
     "output_type": "stream",
     "text": [
      "F1 Score 0.5699131946077949\n",
      "Cross Validation F1 Score: 0.8144304770713653\n"
     ]
    }
   ],
   "source": [
    "# F1-Score for Logistic Regression (LogisticRegression)\n",
    "cls_lr = LogisticRegression()\n",
    "cls_lr.fit(X_train, y_train)\n",
    "\n",
    "y_pred = cls_lr.predict(X_test)\n",
    "f1 = f1_score(y_test, y_pred, average=\"macro\")\n",
    "\n",
    "print(\"F1 Score\", f1)\n",
    "\n",
    "cv = StratifiedKFold(n_splits=10, random_state=1, shuffle=True)\n",
    "scores = cross_val_score(cls_lr, X_test, y_test, scoring='f1_macro', cv=cv, n_jobs=-1)\n",
    "score = np.mean(scores)\n",
    "print(f'Cross Validation F1 Score: {score}')"
   ]
  },
  {
   "cell_type": "markdown",
   "metadata": {},
   "source": [
    "### Project Task: Week 2\n",
    "\n",
    "Modeling Techniques:\n",
    "\n",
    "Try out models like Naive Bayes, Logistic Regression or SVM. Find out which one performs the best\n",
    "Use different Tree-based classifiers like Random Forest and XGBoost. \n",
    "  1. Remember Tree-based classifiers work on two ideologies: Bagging or Boosting\n",
    "  2. Tree-based classifiers have fine-tuning parameters which takes care of the imbalanced class. Random-Forest and XGBboost.\n",
    "\n",
    "Compare the results of 1 with 2 and check if there is any incremental gain."
   ]
  },
  {
   "cell_type": "code",
   "execution_count": 19,
   "metadata": {},
   "outputs": [
    {
     "name": "stdout",
     "output_type": "stream",
     "text": [
      "Fitting 5 folds for each of 12 candidates, totalling 60 fits\n"
     ]
    },
    {
     "name": "stderr",
     "output_type": "stream",
     "text": [
      "[Parallel(n_jobs=-1)]: Using backend LokyBackend with 12 concurrent workers.\n",
      "[Parallel(n_jobs=-1)]: Done  26 tasks      | elapsed:  2.8min\n",
      "[Parallel(n_jobs=-1)]: Done  60 out of  60 | elapsed:  8.8min finished\n"
     ]
    },
    {
     "name": "stdout",
     "output_type": "stream",
     "text": [
      "Best Param {'model__bootstrap': False, 'model__max_depth': 50, 'model__n_estimators': 10}\n",
      "F1 Score 0.9206375447083954\n",
      "Cross Validation F1 Score: 0.8979256897041734\n"
     ]
    }
   ],
   "source": [
    "# F1-Score for RandomForestClassifier (RandomForestClassifier)\n",
    "pipeline_rf = Pipeline([\n",
    "    ('model', RandomForestClassifier())\n",
    "])\n",
    "param_grid_rf = {\n",
    "    'model__n_estimators': [10, 50], \n",
    "    'model__max_depth': [10, 50, None],\n",
    "    'model__bootstrap': [True, False]\n",
    "}\n",
    "\n",
    "grid_rf = GridSearchCV(\n",
    "    estimator=pipeline_rf, \n",
    "    param_grid=param_grid_rf, \n",
    "    scoring='f1_macro', \n",
    "    n_jobs=-1, \n",
    "    pre_dispatch='2*n_jobs', \n",
    "    cv=5, \n",
    "    verbose=1, \n",
    "    return_train_score=False\n",
    ")\n",
    "grid_rf.fit(X_train, y_train)\n",
    "\n",
    "y_pred = grid_rf.predict(X_test)\n",
    "f1 = f1_score(y_test, y_pred, average=\"macro\")\n",
    "\n",
    "print(\"Best Param\", grid_rf.best_params_)\n",
    "print(\"F1 Score\", f1)\n",
    "\n",
    "\n",
    "cv = StratifiedKFold(n_splits=10, random_state=1, shuffle=True)\n",
    "scores = cross_val_score(grid_rf.best_estimator_, X_test, y_test, scoring='f1_macro', cv=cv, n_jobs=-1)\n",
    "score = np.mean(scores)\n",
    "print(f'Cross Validation F1 Score: {score}')"
   ]
  },
  {
   "cell_type": "code",
   "execution_count": null,
   "metadata": {},
   "outputs": [],
   "source": []
  },
  {
   "cell_type": "code",
   "execution_count": 20,
   "metadata": {},
   "outputs": [
    {
     "name": "stdout",
     "output_type": "stream",
     "text": [
      "Fitting 5 folds for each of 32 candidates, totalling 160 fits\n"
     ]
    },
    {
     "name": "stderr",
     "output_type": "stream",
     "text": [
      "[Parallel(n_jobs=-1)]: Using backend LokyBackend with 12 concurrent workers.\n",
      "[Parallel(n_jobs=-1)]: Done  26 tasks      | elapsed:   45.7s\n",
      "[Parallel(n_jobs=-1)]: Done 160 out of 160 | elapsed: 10.1min finished\n"
     ]
    },
    {
     "name": "stdout",
     "output_type": "stream",
     "text": [
      "Best Param {'model__colsample_bytree': 0.5, 'model__gamma': 0.5, 'model__max_depth': 50, 'model__min_child_weight': 1, 'model__n_estimators': 50}\n",
      "F1 Score 0.920080881593657\n",
      "Cross Validation F1 Score: 0.9021419995715986\n"
     ]
    }
   ],
   "source": [
    "# F1-Score for XGBClassifier (XGBClassifier)\n",
    "pipeline_xgb = Pipeline([\n",
    "    ('model', XGBClassifier(objective='binary:logistic'))\n",
    "])\n",
    "param_grid_xgb = {\n",
    "    'model__n_estimators': [10, 50],\n",
    "    'model__max_depth': [10, 50],\n",
    "    \"model__min_child_weight\": [ 1, 5 ],\n",
    "    \"model__gamma\": [ 0.0, 0.5 ],\n",
    "    \"model__colsample_bytree\": [ 0.1,  0.5 ]\n",
    "}\n",
    "\n",
    "grid_xgb = GridSearchCV(\n",
    "    estimator=pipeline_xgb, \n",
    "    param_grid=param_grid_xgb, \n",
    "    scoring='f1_macro', \n",
    "    n_jobs=-1, \n",
    "    pre_dispatch='2*n_jobs', \n",
    "    cv=5, \n",
    "    verbose=1, \n",
    "    return_train_score=False\n",
    ")\n",
    "grid_xgb.fit(X_train, y_train)\n",
    "\n",
    "y_pred = grid_xgb.predict(X_test)\n",
    "f1 = f1_score(y_test, y_pred, average=\"macro\")\n",
    "\n",
    "print(\"Best Param\", grid_xgb.best_params_)\n",
    "print(\"F1 Score\", f1)\n",
    "\n",
    "cv = StratifiedKFold(n_splits=10, random_state=1, shuffle=True)\n",
    "scores = cross_val_score(grid_xgb.best_estimator_, X_test, y_test, scoring='f1_macro', cv=cv, n_jobs=-1)\n",
    "score = np.mean(scores)\n",
    "print(f'Cross Validation F1 Score: {score}')"
   ]
  },
  {
   "cell_type": "code",
   "execution_count": null,
   "metadata": {},
   "outputs": [],
   "source": []
  },
  {
   "cell_type": "markdown",
   "metadata": {},
   "source": [
    "### Project Task: Week 3\n",
    "\n",
    "Applying ANN:\n",
    "\n",
    "1. Use ANN (Artificial Neural Network) to identify fradulent and non-fradulent.\n",
    "   1. Fine-tune number of layers\n",
    "   2. Number of Neurons in each layers\n",
    "   3. Experiment in batch-size\n",
    "   4. Experiment with number of epochs. Check the observations in loss and accuracy\n",
    "   5. Play with different Learning Rate variants of Gradient Descent like Adam, SGD, RMS-prop\n",
    "   6. Find out which activation performs best for this use case and why?\n",
    "   7. Check Confusion Matrix, Precision, Recall and F1-Score\n",
    "2. Try out Dropout for ANN. How is it performed? Compare model performance with the traditional ML based prediction models from above. \n",
    "3. Find the best setting of neural net that can be best classified as fraudulent and non-fraudulent transactions. Use techniques like Grid Search, Cross-Validation and Random search.\n",
    "\n",
    "Anomaly Detection:\n",
    "\n",
    "4. Implement anomaly detection algorithms.\n",
    "   1. Assume that the data is coming from a single or a combination of multivariate Gaussian\n",
    "   2. Formalize a scoring criterion, which gives a scoring probability for the given data point whether it belongs to the multivariate Gaussian or Normal Distribution fitted in 1."
   ]
  },
  {
   "cell_type": "code",
   "execution_count": null,
   "metadata": {},
   "outputs": [],
   "source": []
  },
  {
   "cell_type": "code",
   "execution_count": null,
   "metadata": {},
   "outputs": [],
   "source": []
  },
  {
   "cell_type": "code",
   "execution_count": null,
   "metadata": {},
   "outputs": [],
   "source": []
  },
  {
   "cell_type": "code",
   "execution_count": null,
   "metadata": {},
   "outputs": [],
   "source": []
  },
  {
   "cell_type": "code",
   "execution_count": null,
   "metadata": {},
   "outputs": [],
   "source": []
  },
  {
   "cell_type": "code",
   "execution_count": null,
   "metadata": {},
   "outputs": [],
   "source": []
  },
  {
   "cell_type": "code",
   "execution_count": null,
   "metadata": {},
   "outputs": [],
   "source": []
  },
  {
   "cell_type": "markdown",
   "metadata": {},
   "source": [
    "### Project Task: Week 4\n",
    "\n",
    "Inference and Observations:\n",
    "\n",
    "Visualize the scores for Fraudulent and Non-Fraudulent transactions.\n",
    "Find out the threshold value for marking or reporting a transaction as fraudulent in your anomaly detection system.\n",
    "Can this score be used as an engineered feature in the models developed previously? Are there any incremental gains in F1-Score? Why or Why not?\n",
    "Be as creative as possible in finding other interesting insights."
   ]
  },
  {
   "cell_type": "code",
   "execution_count": null,
   "metadata": {},
   "outputs": [],
   "source": []
  },
  {
   "cell_type": "code",
   "execution_count": null,
   "metadata": {},
   "outputs": [],
   "source": []
  },
  {
   "cell_type": "code",
   "execution_count": null,
   "metadata": {},
   "outputs": [],
   "source": []
  },
  {
   "cell_type": "code",
   "execution_count": null,
   "metadata": {},
   "outputs": [],
   "source": []
  },
  {
   "cell_type": "code",
   "execution_count": null,
   "metadata": {},
   "outputs": [],
   "source": []
  },
  {
   "cell_type": "code",
   "execution_count": null,
   "metadata": {},
   "outputs": [],
   "source": []
  },
  {
   "cell_type": "code",
   "execution_count": null,
   "metadata": {},
   "outputs": [],
   "source": []
  }
 ],
 "metadata": {
  "kernelspec": {
   "display_name": "Python 3",
   "language": "python",
   "name": "python3"
  },
  "language_info": {
   "codemirror_mode": {
    "name": "ipython",
    "version": 3
   },
   "file_extension": ".py",
   "mimetype": "text/x-python",
   "name": "python",
   "nbconvert_exporter": "python",
   "pygments_lexer": "ipython3",
   "version": "3.8.3"
  }
 },
 "nbformat": 4,
 "nbformat_minor": 4
}
