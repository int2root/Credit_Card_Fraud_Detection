{
 "cells": [
  {
   "cell_type": "markdown",
   "metadata": {},
   "source": [
    "## Problem Statement\n",
    "\n",
    "Finance Industry is the biggest consumer of Data Scientists. It faces constant attack by fraudsters, who try to trick the system. Correctly identifying fraudulent transactions is often compared with finding needle in a haystack because of the low event rate. \n",
    "It is important that credit card companies are able to recognize fraudulent credit card transactions so that the customers are not charged for items that they did not purchase.\n",
    "You are required to try various techniques such as supervised models with oversampling, unsupervised anomaly detection, and heuristics to get good accuracy at fraud detection."
   ]
  },
  {
   "cell_type": "markdown",
   "metadata": {},
   "source": [
    "### Dataset Snapshot\n",
    "\n",
    "The datasets contain transactions made by credit cards in September 2013 by European cardholders. This dataset represents transactions that occurred in two days, where we have 492 frauds out of 284,807 transactions. The dataset is highly unbalanced, the positive class (frauds) account for 0.172% of all transactions.\n",
    "It contains only numerical input variables which are the result of a PCA transformation. \n",
    "Features V1, V2, ... V28 are the principal components obtained with PCA. \n",
    "The only features which have not been transformed with PCA are 'Time' and 'Amount'"
   ]
  },
  {
   "cell_type": "markdown",
   "metadata": {},
   "source": [
    "### Project Task: Week 1\n",
    "\n",
    "Exploratory Data Analysis (EDA):\n",
    "\n",
    "1. Perform an EDA on the Dataset.\n",
    "   1. Check all the latent features and parameters with their mean and standard deviation. Value are close to 0 centered (mean) with unit standard deviation\n",
    "   2. Find if there is any connection between Time, Amount, and the transaction being fraudulent.\n",
    "2. Check the class count for each class. It’s a class Imbalance problem.\n",
    "3. Use techniques like undersampling or oversampling before running Naïve Bayes, Logistic Regression or SVM.\n",
    "   1. Oversampling or undersampling can be used to tackle the class imbalance problem\n",
    "   2. Oversampling increases the prior probability of imbalanced class and in case of other classifiers, error gets multiplied as the low-proportionate class is mimicked multiple times.\n",
    "4. Following are the matrices for evaluating the model performance: Precision, Recall, F1-Score, AUC-ROC curve. Use F1-Score as the evaluation criteria for this project."
   ]
  },
  {
   "cell_type": "code",
   "execution_count": 1,
   "metadata": {},
   "outputs": [],
   "source": [
    "import pandas as pd\n",
    "import numpy as np\n",
    "import seaborn as sns\n",
    "import matplotlib.pyplot as plt\n",
    "%matplotlib inline\n",
    "\n",
    "from scipy import stats\n",
    "\n",
    "from sklearn.pipeline import Pipeline\n",
    "from sklearn.preprocessing import StandardScaler\n",
    "from sklearn.metrics import confusion_matrix, classification_report, f1_score, accuracy_score\n",
    "\n",
    "from sklearn.naive_bayes import GaussianNB\n",
    "from sklearn.linear_model import LogisticRegression\n",
    "from sklearn.ensemble import RandomForestClassifier\n",
    "\n",
    "from sklearn.model_selection import StratifiedKFold, GridSearchCV, cross_val_score\n",
    "\n",
    "from imblearn.pipeline import Pipeline as imPipeline\n",
    "from imblearn.over_sampling import RandomOverSampler, SMOTE\n",
    "from imblearn.under_sampling import RandomUnderSampler\n",
    "\n",
    "from xgboost import XGBClassifier\n",
    "\n",
    "import warnings\n",
    "warnings.filterwarnings('ignore')"
   ]
  },
  {
   "cell_type": "code",
   "execution_count": 2,
   "metadata": {},
   "outputs": [],
   "source": [
    "# V colums\n",
    "pca_vars = ['V%i' % k for k in range(1,29)]"
   ]
  },
  {
   "cell_type": "code",
   "execution_count": 3,
   "metadata": {},
   "outputs": [],
   "source": [
    "# load train data\n",
    "train_df = pd.read_csv('./Financial/train_data.csv')\n",
    "test_df = pd.read_csv('./Financial/test_data_hidden.csv')"
   ]
  },
  {
   "cell_type": "code",
   "execution_count": 4,
   "metadata": {},
   "outputs": [
    {
     "data": {
      "text/html": [
       "<div>\n",
       "<style scoped>\n",
       "    .dataframe tbody tr th:only-of-type {\n",
       "        vertical-align: middle;\n",
       "    }\n",
       "\n",
       "    .dataframe tbody tr th {\n",
       "        vertical-align: top;\n",
       "    }\n",
       "\n",
       "    .dataframe thead th {\n",
       "        text-align: right;\n",
       "    }\n",
       "</style>\n",
       "<table border=\"1\" class=\"dataframe\">\n",
       "  <thead>\n",
       "    <tr style=\"text-align: right;\">\n",
       "      <th></th>\n",
       "      <th>Time</th>\n",
       "      <th>V1</th>\n",
       "      <th>V2</th>\n",
       "      <th>V3</th>\n",
       "      <th>V4</th>\n",
       "      <th>V5</th>\n",
       "      <th>V6</th>\n",
       "      <th>V7</th>\n",
       "      <th>V8</th>\n",
       "      <th>V9</th>\n",
       "      <th>...</th>\n",
       "      <th>V21</th>\n",
       "      <th>V22</th>\n",
       "      <th>V23</th>\n",
       "      <th>V24</th>\n",
       "      <th>V25</th>\n",
       "      <th>V26</th>\n",
       "      <th>V27</th>\n",
       "      <th>V28</th>\n",
       "      <th>Amount</th>\n",
       "      <th>Class</th>\n",
       "    </tr>\n",
       "  </thead>\n",
       "  <tbody>\n",
       "    <tr>\n",
       "      <th>0</th>\n",
       "      <td>38355.0</td>\n",
       "      <td>1.043949</td>\n",
       "      <td>0.318555</td>\n",
       "      <td>1.045810</td>\n",
       "      <td>2.805989</td>\n",
       "      <td>-0.561113</td>\n",
       "      <td>-0.367956</td>\n",
       "      <td>0.032736</td>\n",
       "      <td>-0.042333</td>\n",
       "      <td>-0.322674</td>\n",
       "      <td>...</td>\n",
       "      <td>-0.240105</td>\n",
       "      <td>-0.680315</td>\n",
       "      <td>0.085328</td>\n",
       "      <td>0.684812</td>\n",
       "      <td>0.318620</td>\n",
       "      <td>-0.204963</td>\n",
       "      <td>0.001662</td>\n",
       "      <td>0.037894</td>\n",
       "      <td>49.67</td>\n",
       "      <td>0</td>\n",
       "    </tr>\n",
       "    <tr>\n",
       "      <th>1</th>\n",
       "      <td>22555.0</td>\n",
       "      <td>-1.665159</td>\n",
       "      <td>0.808440</td>\n",
       "      <td>1.805627</td>\n",
       "      <td>1.903416</td>\n",
       "      <td>-0.821627</td>\n",
       "      <td>0.934790</td>\n",
       "      <td>-0.824802</td>\n",
       "      <td>0.975890</td>\n",
       "      <td>1.747469</td>\n",
       "      <td>...</td>\n",
       "      <td>-0.335332</td>\n",
       "      <td>-0.510994</td>\n",
       "      <td>0.035839</td>\n",
       "      <td>0.147565</td>\n",
       "      <td>-0.529358</td>\n",
       "      <td>-0.566950</td>\n",
       "      <td>-0.595998</td>\n",
       "      <td>-0.220086</td>\n",
       "      <td>16.94</td>\n",
       "      <td>0</td>\n",
       "    </tr>\n",
       "    <tr>\n",
       "      <th>2</th>\n",
       "      <td>2431.0</td>\n",
       "      <td>-0.324096</td>\n",
       "      <td>0.601836</td>\n",
       "      <td>0.865329</td>\n",
       "      <td>-2.138000</td>\n",
       "      <td>0.294663</td>\n",
       "      <td>-1.251553</td>\n",
       "      <td>1.072114</td>\n",
       "      <td>-0.334896</td>\n",
       "      <td>1.071268</td>\n",
       "      <td>...</td>\n",
       "      <td>0.012220</td>\n",
       "      <td>0.352856</td>\n",
       "      <td>-0.341505</td>\n",
       "      <td>-0.145791</td>\n",
       "      <td>0.094194</td>\n",
       "      <td>-0.804026</td>\n",
       "      <td>0.229428</td>\n",
       "      <td>-0.021623</td>\n",
       "      <td>1.00</td>\n",
       "      <td>0</td>\n",
       "    </tr>\n",
       "    <tr>\n",
       "      <th>3</th>\n",
       "      <td>86773.0</td>\n",
       "      <td>-0.258270</td>\n",
       "      <td>1.217501</td>\n",
       "      <td>-0.585348</td>\n",
       "      <td>-0.875347</td>\n",
       "      <td>1.222481</td>\n",
       "      <td>-0.311027</td>\n",
       "      <td>1.073860</td>\n",
       "      <td>-0.161408</td>\n",
       "      <td>0.200665</td>\n",
       "      <td>...</td>\n",
       "      <td>-0.424626</td>\n",
       "      <td>-0.781158</td>\n",
       "      <td>0.019316</td>\n",
       "      <td>0.178614</td>\n",
       "      <td>-0.315616</td>\n",
       "      <td>0.096665</td>\n",
       "      <td>0.269740</td>\n",
       "      <td>-0.020635</td>\n",
       "      <td>10.78</td>\n",
       "      <td>0</td>\n",
       "    </tr>\n",
       "    <tr>\n",
       "      <th>4</th>\n",
       "      <td>127202.0</td>\n",
       "      <td>2.142162</td>\n",
       "      <td>-0.494988</td>\n",
       "      <td>-1.936511</td>\n",
       "      <td>-0.818288</td>\n",
       "      <td>-0.025213</td>\n",
       "      <td>-1.027245</td>\n",
       "      <td>-0.151627</td>\n",
       "      <td>-0.305750</td>\n",
       "      <td>-0.869482</td>\n",
       "      <td>...</td>\n",
       "      <td>0.010115</td>\n",
       "      <td>0.021722</td>\n",
       "      <td>0.079463</td>\n",
       "      <td>-0.480899</td>\n",
       "      <td>0.023846</td>\n",
       "      <td>-0.279076</td>\n",
       "      <td>-0.030121</td>\n",
       "      <td>-0.043888</td>\n",
       "      <td>39.96</td>\n",
       "      <td>0</td>\n",
       "    </tr>\n",
       "  </tbody>\n",
       "</table>\n",
       "<p>5 rows × 31 columns</p>\n",
       "</div>"
      ],
      "text/plain": [
       "       Time        V1        V2        V3        V4        V5        V6  \\\n",
       "0   38355.0  1.043949  0.318555  1.045810  2.805989 -0.561113 -0.367956   \n",
       "1   22555.0 -1.665159  0.808440  1.805627  1.903416 -0.821627  0.934790   \n",
       "2    2431.0 -0.324096  0.601836  0.865329 -2.138000  0.294663 -1.251553   \n",
       "3   86773.0 -0.258270  1.217501 -0.585348 -0.875347  1.222481 -0.311027   \n",
       "4  127202.0  2.142162 -0.494988 -1.936511 -0.818288 -0.025213 -1.027245   \n",
       "\n",
       "         V7        V8        V9  ...       V21       V22       V23       V24  \\\n",
       "0  0.032736 -0.042333 -0.322674  ... -0.240105 -0.680315  0.085328  0.684812   \n",
       "1 -0.824802  0.975890  1.747469  ... -0.335332 -0.510994  0.035839  0.147565   \n",
       "2  1.072114 -0.334896  1.071268  ...  0.012220  0.352856 -0.341505 -0.145791   \n",
       "3  1.073860 -0.161408  0.200665  ... -0.424626 -0.781158  0.019316  0.178614   \n",
       "4 -0.151627 -0.305750 -0.869482  ...  0.010115  0.021722  0.079463 -0.480899   \n",
       "\n",
       "        V25       V26       V27       V28  Amount  Class  \n",
       "0  0.318620 -0.204963  0.001662  0.037894   49.67      0  \n",
       "1 -0.529358 -0.566950 -0.595998 -0.220086   16.94      0  \n",
       "2  0.094194 -0.804026  0.229428 -0.021623    1.00      0  \n",
       "3 -0.315616  0.096665  0.269740 -0.020635   10.78      0  \n",
       "4  0.023846 -0.279076 -0.030121 -0.043888   39.96      0  \n",
       "\n",
       "[5 rows x 31 columns]"
      ]
     },
     "execution_count": 4,
     "metadata": {},
     "output_type": "execute_result"
    }
   ],
   "source": [
    "train_df.head()"
   ]
  },
  {
   "cell_type": "code",
   "execution_count": 5,
   "metadata": {},
   "outputs": [
    {
     "data": {
      "text/html": [
       "<div>\n",
       "<style scoped>\n",
       "    .dataframe tbody tr th:only-of-type {\n",
       "        vertical-align: middle;\n",
       "    }\n",
       "\n",
       "    .dataframe tbody tr th {\n",
       "        vertical-align: top;\n",
       "    }\n",
       "\n",
       "    .dataframe thead th {\n",
       "        text-align: right;\n",
       "    }\n",
       "</style>\n",
       "<table border=\"1\" class=\"dataframe\">\n",
       "  <thead>\n",
       "    <tr style=\"text-align: right;\">\n",
       "      <th></th>\n",
       "      <th>Time</th>\n",
       "      <th>V1</th>\n",
       "      <th>V2</th>\n",
       "      <th>V3</th>\n",
       "      <th>V4</th>\n",
       "      <th>V5</th>\n",
       "      <th>V6</th>\n",
       "      <th>V7</th>\n",
       "      <th>V8</th>\n",
       "      <th>V9</th>\n",
       "      <th>...</th>\n",
       "      <th>V21</th>\n",
       "      <th>V22</th>\n",
       "      <th>V23</th>\n",
       "      <th>V24</th>\n",
       "      <th>V25</th>\n",
       "      <th>V26</th>\n",
       "      <th>V27</th>\n",
       "      <th>V28</th>\n",
       "      <th>Amount</th>\n",
       "      <th>Class</th>\n",
       "    </tr>\n",
       "  </thead>\n",
       "  <tbody>\n",
       "    <tr>\n",
       "      <th>0</th>\n",
       "      <td>113050.0</td>\n",
       "      <td>0.114697</td>\n",
       "      <td>0.796303</td>\n",
       "      <td>-0.149553</td>\n",
       "      <td>-0.823011</td>\n",
       "      <td>0.878763</td>\n",
       "      <td>-0.553152</td>\n",
       "      <td>0.939259</td>\n",
       "      <td>-0.108502</td>\n",
       "      <td>0.111137</td>\n",
       "      <td>...</td>\n",
       "      <td>-0.335776</td>\n",
       "      <td>-0.807853</td>\n",
       "      <td>-0.055940</td>\n",
       "      <td>-1.025281</td>\n",
       "      <td>-0.369557</td>\n",
       "      <td>0.204653</td>\n",
       "      <td>0.242724</td>\n",
       "      <td>0.085713</td>\n",
       "      <td>0.89</td>\n",
       "      <td>0</td>\n",
       "    </tr>\n",
       "    <tr>\n",
       "      <th>1</th>\n",
       "      <td>26667.0</td>\n",
       "      <td>-0.039318</td>\n",
       "      <td>0.495784</td>\n",
       "      <td>-0.810884</td>\n",
       "      <td>0.546693</td>\n",
       "      <td>1.986257</td>\n",
       "      <td>4.386342</td>\n",
       "      <td>-1.344891</td>\n",
       "      <td>-1.743736</td>\n",
       "      <td>-0.563103</td>\n",
       "      <td>...</td>\n",
       "      <td>-1.377003</td>\n",
       "      <td>-0.072200</td>\n",
       "      <td>-0.197573</td>\n",
       "      <td>1.014807</td>\n",
       "      <td>1.011293</td>\n",
       "      <td>-0.167684</td>\n",
       "      <td>0.113136</td>\n",
       "      <td>0.256836</td>\n",
       "      <td>85.00</td>\n",
       "      <td>0</td>\n",
       "    </tr>\n",
       "    <tr>\n",
       "      <th>2</th>\n",
       "      <td>159519.0</td>\n",
       "      <td>2.275706</td>\n",
       "      <td>-1.531508</td>\n",
       "      <td>-1.021969</td>\n",
       "      <td>-1.602152</td>\n",
       "      <td>-1.220329</td>\n",
       "      <td>-0.462376</td>\n",
       "      <td>-1.196485</td>\n",
       "      <td>-0.147058</td>\n",
       "      <td>-0.950224</td>\n",
       "      <td>...</td>\n",
       "      <td>-0.193271</td>\n",
       "      <td>-0.103533</td>\n",
       "      <td>0.150945</td>\n",
       "      <td>-0.811083</td>\n",
       "      <td>-0.197913</td>\n",
       "      <td>-0.128446</td>\n",
       "      <td>0.014197</td>\n",
       "      <td>-0.051289</td>\n",
       "      <td>42.70</td>\n",
       "      <td>0</td>\n",
       "    </tr>\n",
       "    <tr>\n",
       "      <th>3</th>\n",
       "      <td>137545.0</td>\n",
       "      <td>1.940137</td>\n",
       "      <td>-0.357671</td>\n",
       "      <td>-1.210551</td>\n",
       "      <td>0.382523</td>\n",
       "      <td>0.050823</td>\n",
       "      <td>-0.171322</td>\n",
       "      <td>-0.109124</td>\n",
       "      <td>-0.002115</td>\n",
       "      <td>0.869258</td>\n",
       "      <td>...</td>\n",
       "      <td>0.157994</td>\n",
       "      <td>0.650355</td>\n",
       "      <td>0.034206</td>\n",
       "      <td>0.739535</td>\n",
       "      <td>0.223605</td>\n",
       "      <td>-0.195509</td>\n",
       "      <td>-0.012791</td>\n",
       "      <td>-0.056841</td>\n",
       "      <td>29.99</td>\n",
       "      <td>0</td>\n",
       "    </tr>\n",
       "    <tr>\n",
       "      <th>4</th>\n",
       "      <td>63369.0</td>\n",
       "      <td>1.081395</td>\n",
       "      <td>-0.502615</td>\n",
       "      <td>1.075887</td>\n",
       "      <td>-0.543359</td>\n",
       "      <td>-1.472946</td>\n",
       "      <td>-1.065484</td>\n",
       "      <td>-0.443231</td>\n",
       "      <td>-0.143374</td>\n",
       "      <td>1.659826</td>\n",
       "      <td>...</td>\n",
       "      <td>0.224157</td>\n",
       "      <td>0.821209</td>\n",
       "      <td>-0.137223</td>\n",
       "      <td>0.986259</td>\n",
       "      <td>0.563228</td>\n",
       "      <td>-0.574206</td>\n",
       "      <td>0.089673</td>\n",
       "      <td>0.052036</td>\n",
       "      <td>68.00</td>\n",
       "      <td>0</td>\n",
       "    </tr>\n",
       "  </tbody>\n",
       "</table>\n",
       "<p>5 rows × 31 columns</p>\n",
       "</div>"
      ],
      "text/plain": [
       "       Time        V1        V2        V3        V4        V5        V6  \\\n",
       "0  113050.0  0.114697  0.796303 -0.149553 -0.823011  0.878763 -0.553152   \n",
       "1   26667.0 -0.039318  0.495784 -0.810884  0.546693  1.986257  4.386342   \n",
       "2  159519.0  2.275706 -1.531508 -1.021969 -1.602152 -1.220329 -0.462376   \n",
       "3  137545.0  1.940137 -0.357671 -1.210551  0.382523  0.050823 -0.171322   \n",
       "4   63369.0  1.081395 -0.502615  1.075887 -0.543359 -1.472946 -1.065484   \n",
       "\n",
       "         V7        V8        V9  ...       V21       V22       V23       V24  \\\n",
       "0  0.939259 -0.108502  0.111137  ... -0.335776 -0.807853 -0.055940 -1.025281   \n",
       "1 -1.344891 -1.743736 -0.563103  ... -1.377003 -0.072200 -0.197573  1.014807   \n",
       "2 -1.196485 -0.147058 -0.950224  ... -0.193271 -0.103533  0.150945 -0.811083   \n",
       "3 -0.109124 -0.002115  0.869258  ...  0.157994  0.650355  0.034206  0.739535   \n",
       "4 -0.443231 -0.143374  1.659826  ...  0.224157  0.821209 -0.137223  0.986259   \n",
       "\n",
       "        V25       V26       V27       V28  Amount  Class  \n",
       "0 -0.369557  0.204653  0.242724  0.085713    0.89      0  \n",
       "1  1.011293 -0.167684  0.113136  0.256836   85.00      0  \n",
       "2 -0.197913 -0.128446  0.014197 -0.051289   42.70      0  \n",
       "3  0.223605 -0.195509 -0.012791 -0.056841   29.99      0  \n",
       "4  0.563228 -0.574206  0.089673  0.052036   68.00      0  \n",
       "\n",
       "[5 rows x 31 columns]"
      ]
     },
     "execution_count": 5,
     "metadata": {},
     "output_type": "execute_result"
    }
   ],
   "source": [
    "test_df.head()"
   ]
  },
  {
   "cell_type": "code",
   "execution_count": 6,
   "metadata": {},
   "outputs": [
    {
     "name": "stdout",
     "output_type": "stream",
     "text": [
      "<class 'pandas.core.frame.DataFrame'>\n",
      "RangeIndex: 227845 entries, 0 to 227844\n",
      "Data columns (total 31 columns):\n",
      " #   Column  Non-Null Count   Dtype  \n",
      "---  ------  --------------   -----  \n",
      " 0   Time    227845 non-null  float64\n",
      " 1   V1      227845 non-null  float64\n",
      " 2   V2      227845 non-null  float64\n",
      " 3   V3      227845 non-null  float64\n",
      " 4   V4      227845 non-null  float64\n",
      " 5   V5      227845 non-null  float64\n",
      " 6   V6      227845 non-null  float64\n",
      " 7   V7      227845 non-null  float64\n",
      " 8   V8      227845 non-null  float64\n",
      " 9   V9      227845 non-null  float64\n",
      " 10  V10     227845 non-null  float64\n",
      " 11  V11     227845 non-null  float64\n",
      " 12  V12     227845 non-null  float64\n",
      " 13  V13     227845 non-null  float64\n",
      " 14  V14     227845 non-null  float64\n",
      " 15  V15     227845 non-null  float64\n",
      " 16  V16     227845 non-null  float64\n",
      " 17  V17     227845 non-null  float64\n",
      " 18  V18     227845 non-null  float64\n",
      " 19  V19     227845 non-null  float64\n",
      " 20  V20     227845 non-null  float64\n",
      " 21  V21     227845 non-null  float64\n",
      " 22  V22     227845 non-null  float64\n",
      " 23  V23     227845 non-null  float64\n",
      " 24  V24     227845 non-null  float64\n",
      " 25  V25     227845 non-null  float64\n",
      " 26  V26     227845 non-null  float64\n",
      " 27  V27     227845 non-null  float64\n",
      " 28  V28     227845 non-null  float64\n",
      " 29  Amount  227845 non-null  float64\n",
      " 30  Class   227845 non-null  int64  \n",
      "dtypes: float64(30), int64(1)\n",
      "memory usage: 53.9 MB\n"
     ]
    }
   ],
   "source": [
    "train_df.info()"
   ]
  },
  {
   "cell_type": "markdown",
   "metadata": {},
   "source": [
    "# 1.0 Perform an EDA on the Dataset."
   ]
  },
  {
   "cell_type": "code",
   "execution_count": 7,
   "metadata": {},
   "outputs": [
    {
     "data": {
      "text/plain": [
       "Text(0.5, 1.0, 'V1-V28 Means')"
      ]
     },
     "execution_count": 7,
     "metadata": {},
     "output_type": "execute_result"
    },
    {
     "data": {
      "image/png": "[encoded data removed]",
      "text/plain": [
       "<Figure size 864x576 with 1 Axes>"
      ]
     },
     "metadata": {
      "needs_background": "light"
     },
     "output_type": "display_data"
    }
   ],
   "source": [
    "# plot the mean of v columns\n",
    "plt.figure(figsize=(12,8))\n",
    "sns.barplot(x=pca_vars, y=train_df[pca_vars].mean(), color='green')\n",
    "plt.xlabel('Column')\n",
    "plt.ylabel('Mean')\n",
    "plt.title('V1-V28 Means')"
   ]
  },
  {
   "cell_type": "markdown",
   "metadata": {},
   "source": [
    "### Observation:\n",
    "All of V1-V28 have approximately zero mean."
   ]
  },
  {
   "cell_type": "code",
   "execution_count": 8,
   "metadata": {},
   "outputs": [
    {
     "data": {
      "text/plain": [
       "Text(0.5, 1.0, 'V1-V28 Standard Deviation')"
      ]
     },
     "execution_count": 8,
     "metadata": {},
     "output_type": "execute_result"
    },
    {
     "data": {
      "image/png": "[encoded data removed]",
      "text/plain": [
       "<Figure size 864x576 with 1 Axes>"
      ]
     },
     "metadata": {
      "needs_background": "light"
     },
     "output_type": "display_data"
    }
   ],
   "source": [
    "# plot the std of v colums\n",
    "plt.figure(figsize=(12,8))\n",
    "sns.barplot(x=pca_vars, y=train_df[pca_vars].std(), color='blue')\n",
    "plt.xlabel('Column')\n",
    "plt.ylabel('Standard Deviation')\n",
    "plt.title('V1-V28 Standard Deviation')"
   ]
  },
  {
   "cell_type": "markdown",
   "metadata": {},
   "source": [
    "### Observation:\n",
    "The PCA variables have unit variance, but as low as ~0.4 and as high as ~1.9"
   ]
  },
  {
   "cell_type": "code",
   "execution_count": 9,
   "metadata": {},
   "outputs": [
    {
     "data": {
      "image/png": "[encoded data removed]",
      "text/plain": [
       "<Figure size 762.375x432 with 1 Axes>"
      ]
     },
     "metadata": {
      "needs_background": "light"
     },
     "output_type": "display_data"
    }
   ],
   "source": [
    "sns.lmplot('Time', 'Amount', train_df, hue='Class', fit_reg=False, height=6, aspect=10/6)\n",
    "plt.show()"
   ]
  },
  {
   "cell_type": "markdown",
   "metadata": {},
   "source": [
    "### Observation:\n",
    "1. Doesn't seem like the time of transaction really matters.\n",
    "2. Most of the fraud transactions are of low value"
   ]
  },
  {
   "cell_type": "markdown",
   "metadata": {},
   "source": [
    "# 2.0 Check the class count for each class. It’s a class Imbalance problem."
   ]
  },
  {
   "cell_type": "code",
   "execution_count": 10,
   "metadata": {},
   "outputs": [
    {
     "name": "stdout",
     "output_type": "stream",
     "text": [
      "No Frauds 99.83 % of the dataset, count( 227451 )\n",
      "Frauds 0.17 % of the dataset, count( 394 )\n"
     ]
    },
    {
     "data": {
      "image/png": "[encoded data removed]",
      "text/plain": [
       "<Figure size 432x288 with 1 Axes>"
      ]
     },
     "metadata": {
      "needs_background": "light"
     },
     "output_type": "display_data"
    }
   ],
   "source": [
    "# see the class imbalance\n",
    "def plot_class_balance(df):\n",
    "    vc = df['Class'].value_counts()\n",
    "    print('No Frauds', round(vc[0]/len(df) * 100,2), '% of the dataset, count(', vc[0], ')')\n",
    "    print('Frauds', round(vc[1]/len(df) * 100,2), '% of the dataset, count(', vc[1], ')')\n",
    "\n",
    "    sns.countplot(x=\"Class\", data=df) \n",
    "\n",
    "\n",
    "plot_class_balance(train_df)"
   ]
  },
  {
   "cell_type": "markdown",
   "metadata": {},
   "source": [
    "### Observation:\n",
    "Clearly the data is totally unbalanced!!"
   ]
  },
  {
   "cell_type": "markdown",
   "metadata": {},
   "source": [
    "# 3.0 Use techniques like undersampling or oversampling before running Naïve Bayes, Logistic Regression or SVM"
   ]
  },
  {
   "cell_type": "code",
   "execution_count": 11,
   "metadata": {},
   "outputs": [],
   "source": [
    "X = train_df.iloc[:, train_df.columns != 'Class']\n",
    "y = train_df.iloc[:, train_df.columns == 'Class']"
   ]
  },
  {
   "cell_type": "code",
   "execution_count": 12,
   "metadata": {},
   "outputs": [],
   "source": [
    "def getSamplingF1Score(name, steps):\n",
    "    # A traditional scikit-learn Pipeline cannot be used; instead, \n",
    "    # Pipeline from the imbalanced-learn library can be used\n",
    "    pl = imPipeline(steps=steps)\n",
    "    cv = StratifiedKFold(n_splits=10, random_state=1, shuffle=True)\n",
    "    scores = cross_val_score(pl, X, y, scoring='f1_macro', cv=cv, n_jobs=-1)\n",
    "    score = np.mean(scores)\n",
    "    print(f'{name} F1 Score: {score}')"
   ]
  },
  {
   "cell_type": "code",
   "execution_count": 13,
   "metadata": {},
   "outputs": [
    {
     "name": "stdout",
     "output_type": "stream",
     "text": [
      "GaussianNB :: Over-Sampling F1 Score: 0.5988153397687813\n",
      "GaussianNB :: Under-Sampling F1 Score: 0.589701034720388\n"
     ]
    }
   ],
   "source": [
    "# trying simple over sampling and under sampling\n",
    "over = RandomOverSampler()\n",
    "under = RandomUnderSampler()\n",
    "\n",
    "getSamplingF1Score('GaussianNB :: Over-Sampling', [\n",
    "    ('o', over), \n",
    "    ('model', GaussianNB())\n",
    "])\n",
    "getSamplingF1Score('GaussianNB :: Under-Sampling', [\n",
    "    ('u', under), \n",
    "    ('model', GaussianNB())\n",
    "])"
   ]
  },
  {
   "cell_type": "markdown",
   "metadata": {},
   "source": [
    "Over-sampling increases the prior probability of imbalanced class and in case of other classifiers, error gets multiplied as the low-proportionate class is mimicked multiple times.\n",
    "\n",
    "And also we can see Under-Sampling has a very low F1 score.\n",
    "\n",
    "#### SMOTE Technique (Over-Sampling):\n",
    "SMOTE stands for Synthetic Minority Over-sampling Technique. Unlike Random UnderSampling, SMOTE creates new synthetic points in order to have an equal balance of the classes. This is another alternative for solving the \"class imbalance problems\"."
   ]
  },
  {
   "cell_type": "code",
   "execution_count": 14,
   "metadata": {},
   "outputs": [
    {
     "name": "stdout",
     "output_type": "stream",
     "text": [
      "GaussianNB :: SMOTE-Sampling F1 Score: 0.6256228499362602\n"
     ]
    }
   ],
   "source": [
    "smote = SMOTE(sampling_strategy='minority')\n",
    "\n",
    "getSamplingF1Score('GaussianNB :: SMOTE-Sampling', [\n",
    "    ('s', smote), \n",
    "    ('model', GaussianNB())\n",
    "])"
   ]
  },
  {
   "cell_type": "code",
   "execution_count": 15,
   "metadata": {},
   "outputs": [
    {
     "name": "stdout",
     "output_type": "stream",
     "text": [
      "No Frauds 50.0 % of the dataset, count( 227451 )\n",
      "Frauds 50.0 % of the dataset, count( 227451 )\n"
     ]
    },
    {
     "data": {
      "image/png": "[encoded data removed]",
      "text/plain": [
       "<Figure size 432x288 with 1 Axes>"
      ]
     },
     "metadata": {
      "needs_background": "light"
     },
     "output_type": "display_data"
    }
   ],
   "source": [
    "# finally smote the data\n",
    "X_train_new, y_train_new = smote.fit_sample(X, y)\n",
    "new_df = X_train_new.copy()\n",
    "new_df['Class'] = y_train_new\n",
    "\n",
    "plot_class_balance(new_df)"
   ]
  },
  {
   "cell_type": "code",
   "execution_count": 16,
   "metadata": {},
   "outputs": [
    {
     "name": "stdout",
     "output_type": "stream",
     "text": [
      "<class 'pandas.core.frame.DataFrame'>\n",
      "RangeIndex: 454902 entries, 0 to 454901\n",
      "Data columns (total 31 columns):\n",
      " #   Column  Non-Null Count   Dtype  \n",
      "---  ------  --------------   -----  \n",
      " 0   Time    454902 non-null  float64\n",
      " 1   V1      454902 non-null  float64\n",
      " 2   V2      454902 non-null  float64\n",
      " 3   V3      454902 non-null  float64\n",
      " 4   V4      454902 non-null  float64\n",
      " 5   V5      454902 non-null  float64\n",
      " 6   V6      454902 non-null  float64\n",
      " 7   V7      454902 non-null  float64\n",
      " 8   V8      454902 non-null  float64\n",
      " 9   V9      454902 non-null  float64\n",
      " 10  V10     454902 non-null  float64\n",
      " 11  V11     454902 non-null  float64\n",
      " 12  V12     454902 non-null  float64\n",
      " 13  V13     454902 non-null  float64\n",
      " 14  V14     454902 non-null  float64\n",
      " 15  V15     454902 non-null  float64\n",
      " 16  V16     454902 non-null  float64\n",
      " 17  V17     454902 non-null  float64\n",
      " 18  V18     454902 non-null  float64\n",
      " 19  V19     454902 non-null  float64\n",
      " 20  V20     454902 non-null  float64\n",
      " 21  V21     454902 non-null  float64\n",
      " 22  V22     454902 non-null  float64\n",
      " 23  V23     454902 non-null  float64\n",
      " 24  V24     454902 non-null  float64\n",
      " 25  V25     454902 non-null  float64\n",
      " 26  V26     454902 non-null  float64\n",
      " 27  V27     454902 non-null  float64\n",
      " 28  V28     454902 non-null  float64\n",
      " 29  Amount  454902 non-null  float64\n",
      " 30  Class   454902 non-null  int64  \n",
      "dtypes: float64(30), int64(1)\n",
      "memory usage: 107.6 MB\n"
     ]
    }
   ],
   "source": [
    "new_df.info()"
   ]
  },
  {
   "cell_type": "markdown",
   "metadata": {},
   "source": [
    "# 4.0 Following are the matrices for evaluating the model performance: Precision, Recall, F1-Score, AUC-ROC curve. Use F1-Score as the evaluation criteria for this project."
   ]
  },
  {
   "cell_type": "code",
   "execution_count": 17,
   "metadata": {},
   "outputs": [],
   "source": [
    "# since Time realy does not matter, lets drop the column now\n",
    "new_df.drop(['Time'], inplace=True, axis=1)\n",
    "test_df.drop(['Time'], inplace=True, axis=1)\n",
    "\n",
    "# Amount is not scaled, so lets scale that colums\n",
    "new_df['Amount'] = StandardScaler().fit_transform(new_df['Amount'].values.reshape(-1, 1))\n",
    "test_df['Amount'] = StandardScaler().fit_transform(test_df['Amount'].values.reshape(-1, 1))"
   ]
  },
  {
   "cell_type": "code",
   "execution_count": 18,
   "metadata": {},
   "outputs": [],
   "source": [
    "def plot_cf(y_test, y_pred):\n",
    "    cm_nn=confusion_matrix(y_test, y_pred)\n",
    "    plt.figure(figsize=(8,6))\n",
    "    sns.set(font_scale=1.2)\n",
    "    sns.heatmap(cm_nn, annot=True, fmt = 'g', cmap=\"winter\", cbar = False)\n",
    "    plt.xlabel(\"Predicted Label\", size = 18)\n",
    "    plt.ylabel(\"True Label\", size = 18)\n",
    "    plt.title(\"Confusion Matrix\", size = 20)\n",
    "\n",
    "def print_f1(y_test, y_pred):\n",
    "    score = f1_score(y_test, y_pred, average=\"macro\")\n",
    "    print(f'F1 Score: {score}')"
   ]
  },
  {
   "cell_type": "code",
   "execution_count": 19,
   "metadata": {},
   "outputs": [],
   "source": [
    "X_train = new_df.iloc[:, new_df.columns != 'Class']\n",
    "y_train = new_df.iloc[:, new_df.columns == 'Class']\n",
    "\n",
    "X_test = test_df.iloc[:, test_df.columns != 'Class']\n",
    "y_test = test_df.iloc[:, test_df.columns == 'Class']"
   ]
  },
  {
   "cell_type": "code",
   "execution_count": 20,
   "metadata": {},
   "outputs": [
    {
     "name": "stdout",
     "output_type": "stream",
     "text": [
      "F1 Score: 0.5473337193828417\n",
      "Cross Validation F1 Score: 0.5551383581247484\n"
     ]
    }
   ],
   "source": [
    "# F1-Score for Naïve Bayes (GaussianNB)\n",
    "cls_nb = GaussianNB()\n",
    "cls_nb.fit(X_train, y_train)\n",
    "\n",
    "y_pred = cls_nb.predict(X_test)\n",
    "\n",
    "# plot_cf(y_test, y_pred)\n",
    "print_f1(y_test, y_pred)\n",
    "\n",
    "cv = StratifiedKFold(n_splits=10, random_state=1, shuffle=True)\n",
    "scores = cross_val_score(cls_nb, X_test, y_test, scoring='f1_macro', cv=cv, n_jobs=-1)\n",
    "score = np.mean(scores)\n",
    "print(f'Cross Validation F1 Score: {score}')"
   ]
  },
  {
   "cell_type": "code",
   "execution_count": 21,
   "metadata": {},
   "outputs": [
    {
     "name": "stdout",
     "output_type": "stream",
     "text": [
      "F1 Score: 0.5991753151949392\n",
      "Cross Validation F1 Score: 0.8323962488051473\n"
     ]
    }
   ],
   "source": [
    "# F1-Score for Logistic Regression (LogisticRegression)\n",
    "cls_lr = LogisticRegression()\n",
    "cls_lr.fit(X_train, y_train)\n",
    "\n",
    "y_pred = cls_lr.predict(X_test)\n",
    "\n",
    "# plot_cf(y_test, y_pred)\n",
    "print_f1(y_test, y_pred)\n",
    "\n",
    "cv = StratifiedKFold(n_splits=10, random_state=1, shuffle=True)\n",
    "scores = cross_val_score(cls_lr, X_test, y_test, scoring='f1_macro', cv=cv, n_jobs=-1)\n",
    "score = np.mean(scores)\n",
    "print(f'Cross Validation F1 Score: {score}')"
   ]
  },
  {
   "cell_type": "markdown",
   "metadata": {},
   "source": [
    "### Project Task: Week 2\n",
    "\n",
    "Modeling Techniques:\n",
    "\n",
    "Try out models like Naive Bayes, Logistic Regression or SVM. Find out which one performs the best\n",
    "Use different Tree-based classifiers like Random Forest and XGBoost. \n",
    "  1. Remember Tree-based classifiers work on two ideologies: Bagging or Boosting\n",
    "  2. Tree-based classifiers have fine-tuning parameters which takes care of the imbalanced class. Random-Forest and XGBboost.\n",
    "\n",
    "Compare the results of 1 with 2 and check if there is any incremental gain."
   ]
  },
  {
   "cell_type": "code",
   "execution_count": 22,
   "metadata": {},
   "outputs": [
    {
     "name": "stdout",
     "output_type": "stream",
     "text": [
      "Fitting 5 folds for each of 12 candidates, totalling 60 fits\n"
     ]
    },
    {
     "name": "stderr",
     "output_type": "stream",
     "text": [
      "[Parallel(n_jobs=-1)]: Using backend LokyBackend with 12 concurrent workers.\n",
      "[Parallel(n_jobs=-1)]: Done  26 tasks      | elapsed:  2.8min\n",
      "[Parallel(n_jobs=-1)]: Done  60 out of  60 | elapsed:  8.8min finished\n"
     ]
    },
    {
     "name": "stdout",
     "output_type": "stream",
     "text": [
      "Best Param {'model__bootstrap': False, 'model__max_depth': None, 'model__n_estimators': 50}\n",
      "F1 Score: 0.9292335303246917\n",
      "Cross Validation F1 Score: 0.8934648143888421\n"
     ]
    },
    {
     "data": {
      "image/png": "[encoded data removed]",
      "text/plain": [
       "<Figure size 576x432 with 1 Axes>"
      ]
     },
     "metadata": {
      "needs_background": "light"
     },
     "output_type": "display_data"
    }
   ],
   "source": [
    "# F1-Score for RandomForestClassifier (RandomForestClassifier)\n",
    "pipeline_rf = Pipeline([\n",
    "    ('model', RandomForestClassifier())\n",
    "])\n",
    "param_grid_rf = {\n",
    "    'model__n_estimators': [10, 50], \n",
    "    'model__max_depth': [10, 50, None],\n",
    "    'model__bootstrap': [True, False]\n",
    "}\n",
    "\n",
    "grid_rf = GridSearchCV(\n",
    "    estimator=pipeline_rf, \n",
    "    param_grid=param_grid_rf, \n",
    "    scoring='f1_macro', \n",
    "    n_jobs=-1, \n",
    "    pre_dispatch='2*n_jobs', \n",
    "    cv=5, \n",
    "    verbose=1, \n",
    "    return_train_score=False\n",
    ")\n",
    "grid_rf.fit(X_train, y_train)\n",
    "\n",
    "y_pred = grid_rf.predict(X_test)\n",
    "\n",
    "print(\"Best Param\", grid_rf.best_params_)\n",
    "\n",
    "plot_cf(y_test, y_pred)\n",
    "print_f1(y_test, y_pred)\n",
    "\n",
    "cv = StratifiedKFold(n_splits=10, random_state=1, shuffle=True)\n",
    "scores = cross_val_score(grid_rf.best_estimator_, X_test, y_test, scoring='f1_macro', cv=cv, n_jobs=-1)\n",
    "score = np.mean(scores)\n",
    "print(f'Cross Validation F1 Score: {score}')"
   ]
  },
  {
   "cell_type": "code",
   "execution_count": null,
   "metadata": {},
   "outputs": [],
   "source": []
  },
  {
   "cell_type": "code",
   "execution_count": 23,
   "metadata": {},
   "outputs": [
    {
     "name": "stdout",
     "output_type": "stream",
     "text": [
      "Fitting 5 folds for each of 32 candidates, totalling 160 fits\n"
     ]
    },
    {
     "name": "stderr",
     "output_type": "stream",
     "text": [
      "[Parallel(n_jobs=-1)]: Using backend LokyBackend with 12 concurrent workers.\n",
      "[Parallel(n_jobs=-1)]: Done  26 tasks      | elapsed:   36.5s\n",
      "[Parallel(n_jobs=-1)]: Done 160 out of 160 | elapsed:  9.5min finished\n"
     ]
    },
    {
     "name": "stdout",
     "output_type": "stream",
     "text": [
      "Best Param {'model__colsample_bytree': 0.5, 'model__gamma': 0.0, 'model__max_depth': 50, 'model__min_child_weight': 1, 'model__n_estimators': 50}\n",
      "F1 Score: 0.918711883435269\n",
      "Cross Validation F1 Score: 0.9012363265391766\n"
     ]
    },
    {
     "data": {
      "image/png": "[encoded data removed]",
      "text/plain": [
       "<Figure size 576x432 with 1 Axes>"
      ]
     },
     "metadata": {},
     "output_type": "display_data"
    }
   ],
   "source": [
    "# F1-Score for XGBClassifier (XGBClassifier)\n",
    "pipeline_xgb = Pipeline([\n",
    "    ('model', XGBClassifier(objective='binary:logistic'))\n",
    "])\n",
    "param_grid_xgb = {\n",
    "    'model__n_estimators': [10, 50],\n",
    "    'model__max_depth': [10, 50],\n",
    "    \"model__min_child_weight\": [ 1, 5 ],\n",
    "    \"model__gamma\": [ 0.0, 0.5 ],\n",
    "    \"model__colsample_bytree\": [ 0.1,  0.5 ]\n",
    "}\n",
    "\n",
    "grid_xgb = GridSearchCV(\n",
    "    estimator=pipeline_xgb, \n",
    "    param_grid=param_grid_xgb, \n",
    "    scoring='f1_macro', \n",
    "    n_jobs=-1, \n",
    "    pre_dispatch='2*n_jobs', \n",
    "    cv=5, \n",
    "    verbose=1, \n",
    "    return_train_score=False\n",
    ")\n",
    "grid_xgb.fit(X_train, y_train)\n",
    "\n",
    "y_pred = grid_xgb.predict(X_test)\n",
    "\n",
    "print(\"Best Param\", grid_xgb.best_params_)\n",
    "\n",
    "plot_cf(y_test, y_pred)\n",
    "print_f1(y_test, y_pred)\n",
    "\n",
    "cv = StratifiedKFold(n_splits=10, random_state=1, shuffle=True)\n",
    "scores = cross_val_score(grid_xgb.best_estimator_, X_test, y_test, scoring='f1_macro', cv=cv, n_jobs=-1)\n",
    "score = np.mean(scores)\n",
    "print(f'Cross Validation F1 Score: {score}')"
   ]
  },
  {
   "cell_type": "markdown",
   "metadata": {},
   "source": [
    "### Observation:\n",
    "XGBClassifier we have highest cross validation f1 score"
   ]
  },
  {
   "cell_type": "markdown",
   "metadata": {},
   "source": [
    "### Project Task: Week 3\n",
    "\n",
    "Applying ANN:\n",
    "\n",
    "1. Use ANN (Artificial Neural Network) to identify fradulent and non-fradulent.\n",
    "   1. Fine-tune number of layers\n",
    "   2. Number of Neurons in each layers\n",
    "   3. Experiment in batch-size\n",
    "   4. Experiment with number of epochs. Check the observations in loss and accuracy\n",
    "   5. Play with different Learning Rate variants of Gradient Descent like Adam, SGD, RMS-prop\n",
    "   6. Find out which activation performs best for this use case and why?\n",
    "   7. Check Confusion Matrix, Precision, Recall and F1-Score\n",
    "2. Try out Dropout for ANN. How is it performed? Compare model performance with the traditional ML based prediction models from above. \n",
    "3. Find the best setting of neural net that can be best classified as fraudulent and non-fraudulent transactions. Use techniques like Grid Search, Cross-Validation and Random search.\n",
    "\n",
    "Anomaly Detection:\n",
    "\n",
    "4. Implement anomaly detection algorithms.\n",
    "   1. Assume that the data is coming from a single or a combination of multivariate Gaussian\n",
    "   2. Formalize a scoring criterion, which gives a scoring probability for the given data point whether it belongs to the multivariate Gaussian or Normal Distribution fitted in 1."
   ]
  },
  {
   "cell_type": "code",
   "execution_count": 24,
   "metadata": {},
   "outputs": [],
   "source": [
    "import tensorflow as tf\n",
    "from tensorflow.keras import Sequential\n",
    "from tensorflow.keras.layers import Dense, Dropout, BatchNormalization\n",
    "from tensorflow.keras.optimizers import Adam\n",
    "from tensorflow.keras.losses import binary_crossentropy\n",
    "from mlxtend.plotting import plot_confusion_matrix"
   ]
  },
  {
   "cell_type": "code",
   "execution_count": 25,
   "metadata": {},
   "outputs": [
    {
     "data": {
      "text/html": [
       "<div>\n",
       "<style scoped>\n",
       "    .dataframe tbody tr th:only-of-type {\n",
       "        vertical-align: middle;\n",
       "    }\n",
       "\n",
       "    .dataframe tbody tr th {\n",
       "        vertical-align: top;\n",
       "    }\n",
       "\n",
       "    .dataframe thead th {\n",
       "        text-align: right;\n",
       "    }\n",
       "</style>\n",
       "<table border=\"1\" class=\"dataframe\">\n",
       "  <thead>\n",
       "    <tr style=\"text-align: right;\">\n",
       "      <th></th>\n",
       "      <th>V1</th>\n",
       "      <th>V2</th>\n",
       "      <th>V3</th>\n",
       "      <th>V4</th>\n",
       "      <th>V5</th>\n",
       "      <th>V6</th>\n",
       "      <th>V7</th>\n",
       "      <th>V8</th>\n",
       "      <th>V9</th>\n",
       "      <th>V10</th>\n",
       "      <th>...</th>\n",
       "      <th>V20</th>\n",
       "      <th>V21</th>\n",
       "      <th>V22</th>\n",
       "      <th>V23</th>\n",
       "      <th>V24</th>\n",
       "      <th>V25</th>\n",
       "      <th>V26</th>\n",
       "      <th>V27</th>\n",
       "      <th>V28</th>\n",
       "      <th>Amount</th>\n",
       "    </tr>\n",
       "  </thead>\n",
       "  <tbody>\n",
       "    <tr>\n",
       "      <th>0</th>\n",
       "      <td>1.043949</td>\n",
       "      <td>0.318555</td>\n",
       "      <td>1.045810</td>\n",
       "      <td>2.805989</td>\n",
       "      <td>-0.561113</td>\n",
       "      <td>-0.367956</td>\n",
       "      <td>0.032736</td>\n",
       "      <td>-0.042333</td>\n",
       "      <td>-0.322674</td>\n",
       "      <td>0.499167</td>\n",
       "      <td>...</td>\n",
       "      <td>-0.084556</td>\n",
       "      <td>-0.240105</td>\n",
       "      <td>-0.680315</td>\n",
       "      <td>0.085328</td>\n",
       "      <td>0.684812</td>\n",
       "      <td>0.318620</td>\n",
       "      <td>-0.204963</td>\n",
       "      <td>0.001662</td>\n",
       "      <td>0.037894</td>\n",
       "      <td>-0.222849</td>\n",
       "    </tr>\n",
       "    <tr>\n",
       "      <th>1</th>\n",
       "      <td>-1.665159</td>\n",
       "      <td>0.808440</td>\n",
       "      <td>1.805627</td>\n",
       "      <td>1.903416</td>\n",
       "      <td>-0.821627</td>\n",
       "      <td>0.934790</td>\n",
       "      <td>-0.824802</td>\n",
       "      <td>0.975890</td>\n",
       "      <td>1.747469</td>\n",
       "      <td>-0.658751</td>\n",
       "      <td>...</td>\n",
       "      <td>-0.373759</td>\n",
       "      <td>-0.335332</td>\n",
       "      <td>-0.510994</td>\n",
       "      <td>0.035839</td>\n",
       "      <td>0.147565</td>\n",
       "      <td>-0.529358</td>\n",
       "      <td>-0.566950</td>\n",
       "      <td>-0.595998</td>\n",
       "      <td>-0.220086</td>\n",
       "      <td>-0.369347</td>\n",
       "    </tr>\n",
       "    <tr>\n",
       "      <th>2</th>\n",
       "      <td>-0.324096</td>\n",
       "      <td>0.601836</td>\n",
       "      <td>0.865329</td>\n",
       "      <td>-2.138000</td>\n",
       "      <td>0.294663</td>\n",
       "      <td>-1.251553</td>\n",
       "      <td>1.072114</td>\n",
       "      <td>-0.334896</td>\n",
       "      <td>1.071268</td>\n",
       "      <td>-1.109522</td>\n",
       "      <td>...</td>\n",
       "      <td>-0.039868</td>\n",
       "      <td>0.012220</td>\n",
       "      <td>0.352856</td>\n",
       "      <td>-0.341505</td>\n",
       "      <td>-0.145791</td>\n",
       "      <td>0.094194</td>\n",
       "      <td>-0.804026</td>\n",
       "      <td>0.229428</td>\n",
       "      <td>-0.021623</td>\n",
       "      <td>-0.440693</td>\n",
       "    </tr>\n",
       "    <tr>\n",
       "      <th>3</th>\n",
       "      <td>-0.258270</td>\n",
       "      <td>1.217501</td>\n",
       "      <td>-0.585348</td>\n",
       "      <td>-0.875347</td>\n",
       "      <td>1.222481</td>\n",
       "      <td>-0.311027</td>\n",
       "      <td>1.073860</td>\n",
       "      <td>-0.161408</td>\n",
       "      <td>0.200665</td>\n",
       "      <td>0.154307</td>\n",
       "      <td>...</td>\n",
       "      <td>0.382305</td>\n",
       "      <td>-0.424626</td>\n",
       "      <td>-0.781158</td>\n",
       "      <td>0.019316</td>\n",
       "      <td>0.178614</td>\n",
       "      <td>-0.315616</td>\n",
       "      <td>0.096665</td>\n",
       "      <td>0.269740</td>\n",
       "      <td>-0.020635</td>\n",
       "      <td>-0.396919</td>\n",
       "    </tr>\n",
       "    <tr>\n",
       "      <th>4</th>\n",
       "      <td>2.142162</td>\n",
       "      <td>-0.494988</td>\n",
       "      <td>-1.936511</td>\n",
       "      <td>-0.818288</td>\n",
       "      <td>-0.025213</td>\n",
       "      <td>-1.027245</td>\n",
       "      <td>-0.151627</td>\n",
       "      <td>-0.305750</td>\n",
       "      <td>-0.869482</td>\n",
       "      <td>0.428729</td>\n",
       "      <td>...</td>\n",
       "      <td>0.106592</td>\n",
       "      <td>0.010115</td>\n",
       "      <td>0.021722</td>\n",
       "      <td>0.079463</td>\n",
       "      <td>-0.480899</td>\n",
       "      <td>0.023846</td>\n",
       "      <td>-0.279076</td>\n",
       "      <td>-0.030121</td>\n",
       "      <td>-0.043888</td>\n",
       "      <td>-0.266310</td>\n",
       "    </tr>\n",
       "  </tbody>\n",
       "</table>\n",
       "<p>5 rows × 29 columns</p>\n",
       "</div>"
      ],
      "text/plain": [
       "         V1        V2        V3        V4        V5        V6        V7  \\\n",
       "0  1.043949  0.318555  1.045810  2.805989 -0.561113 -0.367956  0.032736   \n",
       "1 -1.665159  0.808440  1.805627  1.903416 -0.821627  0.934790 -0.824802   \n",
       "2 -0.324096  0.601836  0.865329 -2.138000  0.294663 -1.251553  1.072114   \n",
       "3 -0.258270  1.217501 -0.585348 -0.875347  1.222481 -0.311027  1.073860   \n",
       "4  2.142162 -0.494988 -1.936511 -0.818288 -0.025213 -1.027245 -0.151627   \n",
       "\n",
       "         V8        V9       V10  ...       V20       V21       V22       V23  \\\n",
       "0 -0.042333 -0.322674  0.499167  ... -0.084556 -0.240105 -0.680315  0.085328   \n",
       "1  0.975890  1.747469 -0.658751  ... -0.373759 -0.335332 -0.510994  0.035839   \n",
       "2 -0.334896  1.071268 -1.109522  ... -0.039868  0.012220  0.352856 -0.341505   \n",
       "3 -0.161408  0.200665  0.154307  ...  0.382305 -0.424626 -0.781158  0.019316   \n",
       "4 -0.305750 -0.869482  0.428729  ...  0.106592  0.010115  0.021722  0.079463   \n",
       "\n",
       "        V24       V25       V26       V27       V28    Amount  \n",
       "0  0.684812  0.318620 -0.204963  0.001662  0.037894 -0.222849  \n",
       "1  0.147565 -0.529358 -0.566950 -0.595998 -0.220086 -0.369347  \n",
       "2 -0.145791  0.094194 -0.804026  0.229428 -0.021623 -0.440693  \n",
       "3  0.178614 -0.315616  0.096665  0.269740 -0.020635 -0.396919  \n",
       "4 -0.480899  0.023846 -0.279076 -0.030121 -0.043888 -0.266310  \n",
       "\n",
       "[5 rows x 29 columns]"
      ]
     },
     "execution_count": 25,
     "metadata": {},
     "output_type": "execute_result"
    }
   ],
   "source": [
    "X_train.head()"
   ]
  },
  {
   "cell_type": "code",
   "execution_count": 26,
   "metadata": {},
   "outputs": [],
   "source": [
    "physical_devices = tf.config.list_physical_devices('GPU')\n",
    "tf.config.experimental.set_memory_growth(physical_devices[0], enable=True)"
   ]
  },
  {
   "cell_type": "code",
   "execution_count": 27,
   "metadata": {},
   "outputs": [],
   "source": [
    "def generate_model(dim):\n",
    "    _model = Sequential()\n",
    "    _model.add(Dense(dim, activation = 'relu', input_dim = dim))\n",
    "    _model.add(BatchNormalization())\n",
    "\n",
    "    _model.add(Dense(64, activation = 'relu'))\n",
    "    _model.add(BatchNormalization())\n",
    "    _model.add(Dropout(0.5))\n",
    "\n",
    "    _model.add(Dense(64, activation = 'relu'))\n",
    "    _model.add(BatchNormalization())\n",
    "    _model.add(Dropout(0.5))\n",
    "\n",
    "    _model.add(Dense(1, activation = 'sigmoid'))\n",
    "    return _model"
   ]
  },
  {
   "cell_type": "code",
   "execution_count": 28,
   "metadata": {},
   "outputs": [
    {
     "data": {
      "text/plain": [
       "29"
      ]
     },
     "execution_count": 28,
     "metadata": {},
     "output_type": "execute_result"
    }
   ],
   "source": [
    "X_train.shape[1]"
   ]
  },
  {
   "cell_type": "code",
   "execution_count": 29,
   "metadata": {},
   "outputs": [
    {
     "name": "stdout",
     "output_type": "stream",
     "text": [
      "Epoch 1/50\n",
      "1517/1517 [==============================] - 5s 3ms/step - loss: 0.2122 - val_loss: 0.0508\n",
      "Epoch 2/50\n",
      "1517/1517 [==============================] - 4s 3ms/step - loss: 0.0778 - val_loss: 0.0401\n",
      "Epoch 3/50\n",
      "1517/1517 [==============================] - 4s 3ms/step - loss: 0.0561 - val_loss: 0.0305\n",
      "Epoch 4/50\n",
      "1517/1517 [==============================] - 4s 3ms/step - loss: 0.0438 - val_loss: 0.0285\n",
      "Epoch 5/50\n",
      "1517/1517 [==============================] - 4s 3ms/step - loss: 0.0355 - val_loss: 0.0238\n",
      "Epoch 6/50\n",
      "1517/1517 [==============================] - 4s 3ms/step - loss: 0.0299 - val_loss: 0.0200\n",
      "Epoch 7/50\n",
      "1517/1517 [==============================] - 5s 3ms/step - loss: 0.0259 - val_loss: 0.0194\n",
      "Epoch 8/50\n",
      "1517/1517 [==============================] - 4s 3ms/step - loss: 0.0227 - val_loss: 0.0188\n",
      "Epoch 9/50\n",
      "1517/1517 [==============================] - 5s 3ms/step - loss: 0.0208 - val_loss: 0.0178\n",
      "Epoch 10/50\n",
      "1517/1517 [==============================] - 4s 3ms/step - loss: 0.0190 - val_loss: 0.0158\n",
      "Epoch 11/50\n",
      "1517/1517 [==============================] - 5s 3ms/step - loss: 0.0180 - val_loss: 0.0159\n",
      "Epoch 12/50\n",
      "1517/1517 [==============================] - 5s 3ms/step - loss: 0.0162 - val_loss: 0.0158\n",
      "Epoch 13/50\n",
      "1517/1517 [==============================] - 5s 3ms/step - loss: 0.0154 - val_loss: 0.0137\n",
      "Epoch 14/50\n",
      "1517/1517 [==============================] - 4s 3ms/step - loss: 0.0147 - val_loss: 0.0129\n",
      "Epoch 15/50\n",
      "1517/1517 [==============================] - 5s 3ms/step - loss: 0.0135 - val_loss: 0.0131\n",
      "Epoch 16/50\n",
      "1517/1517 [==============================] - 5s 3ms/step - loss: 0.0128 - val_loss: 0.0126\n",
      "Epoch 17/50\n",
      "1517/1517 [==============================] - 4s 3ms/step - loss: 0.0124 - val_loss: 0.0128\n",
      "Epoch 18/50\n",
      "1517/1517 [==============================] - 5s 3ms/step - loss: 0.0115 - val_loss: 0.0129\n",
      "Epoch 19/50\n",
      "1517/1517 [==============================] - 5s 3ms/step - loss: 0.0116 - val_loss: 0.0118\n",
      "Epoch 20/50\n",
      "1517/1517 [==============================] - 4s 3ms/step - loss: 0.0109 - val_loss: 0.0113\n",
      "Epoch 21/50\n",
      "1517/1517 [==============================] - 4s 3ms/step - loss: 0.0106 - val_loss: 0.0117\n",
      "Epoch 22/50\n",
      "1517/1517 [==============================] - 5s 3ms/step - loss: 0.0100 - val_loss: 0.0105\n",
      "Epoch 23/50\n",
      "1517/1517 [==============================] - 5s 3ms/step - loss: 0.0103 - val_loss: 0.0107\n",
      "Epoch 24/50\n",
      "1517/1517 [==============================] - 4s 3ms/step - loss: 0.0093 - val_loss: 0.0107\n",
      "Epoch 25/50\n",
      "1517/1517 [==============================] - 5s 3ms/step - loss: 0.0093 - val_loss: 0.0107\n",
      "Epoch 26/50\n",
      "1517/1517 [==============================] - 4s 3ms/step - loss: 0.0089 - val_loss: 0.0109\n",
      "Epoch 27/50\n",
      "1517/1517 [==============================] - 4s 3ms/step - loss: 0.0083 - val_loss: 0.0096\n",
      "Epoch 28/50\n",
      "1517/1517 [==============================] - 4s 3ms/step - loss: 0.0081 - val_loss: 0.0102\n",
      "Epoch 29/50\n",
      "1517/1517 [==============================] - 4s 3ms/step - loss: 0.0078 - val_loss: 0.0103\n",
      "Epoch 30/50\n",
      "1517/1517 [==============================] - 4s 3ms/step - loss: 0.0077 - val_loss: 0.0104\n",
      "Epoch 31/50\n",
      "1517/1517 [==============================] - 4s 3ms/step - loss: 0.0073 - val_loss: 0.0094\n",
      "Epoch 32/50\n",
      "1517/1517 [==============================] - 4s 3ms/step - loss: 0.0072 - val_loss: 0.0090\n",
      "Epoch 33/50\n",
      "1517/1517 [==============================] - 4s 3ms/step - loss: 0.0071 - val_loss: 0.0088\n",
      "Epoch 34/50\n",
      "1517/1517 [==============================] - 5s 3ms/step - loss: 0.0067 - val_loss: 0.0097\n",
      "Epoch 35/50\n",
      "1517/1517 [==============================] - 4s 3ms/step - loss: 0.0067 - val_loss: 0.0098\n",
      "Epoch 36/50\n",
      "1517/1517 [==============================] - 4s 3ms/step - loss: 0.0065 - val_loss: 0.0092\n",
      "Epoch 37/50\n",
      "1517/1517 [==============================] - 5s 3ms/step - loss: 0.0062 - val_loss: 0.0084\n",
      "Epoch 38/50\n",
      "1517/1517 [==============================] - 4s 3ms/step - loss: 0.0061 - val_loss: 0.0091\n",
      "Epoch 39/50\n",
      "1517/1517 [==============================] - 4s 3ms/step - loss: 0.0056 - val_loss: 0.0090\n",
      "Epoch 40/50\n",
      "1517/1517 [==============================] - 4s 3ms/step - loss: 0.0057 - val_loss: 0.0091\n",
      "Epoch 41/50\n",
      "1517/1517 [==============================] - 5s 3ms/step - loss: 0.0058 - val_loss: 0.0086\n",
      "Epoch 42/50\n",
      "1517/1517 [==============================] - 4s 3ms/step - loss: 0.0055 - val_loss: 0.0086\n",
      "Epoch 43/50\n",
      "1517/1517 [==============================] - 4s 3ms/step - loss: 0.0053 - val_loss: 0.0081\n",
      "Epoch 44/50\n",
      "1517/1517 [==============================] - 4s 3ms/step - loss: 0.0052 - val_loss: 0.0087\n",
      "Epoch 45/50\n",
      "1517/1517 [==============================] - 4s 3ms/step - loss: 0.0051 - val_loss: 0.0079\n",
      "Epoch 46/50\n",
      "1517/1517 [==============================] - 4s 3ms/step - loss: 0.0048 - val_loss: 0.0085\n",
      "Epoch 47/50\n",
      "1517/1517 [==============================] - 4s 3ms/step - loss: 0.0047 - val_loss: 0.0079\n",
      "Epoch 48/50\n",
      "1517/1517 [==============================] - 4s 3ms/step - loss: 0.0048 - val_loss: 0.0082\n",
      "Epoch 49/50\n",
      "1517/1517 [==============================] - 4s 3ms/step - loss: 0.0046 - val_loss: 0.0081\n",
      "Epoch 50/50\n",
      "1517/1517 [==============================] - 5s 3ms/step - loss: 0.0045 - val_loss: 0.0079\n"
     ]
    }
   ],
   "source": [
    "model = generate_model(X_train.shape[1])\n",
    "\n",
    "optimizer = tf.keras.optimizers.Adam(lr=0.0001)\n",
    "model.compile(optimizer = optimizer, loss = 'binary_crossentropy')\n",
    "\n",
    "history = model.fit(X_train, y_train,\n",
    "                    epochs=50,\n",
    "                    batch_size=300,\n",
    "                    validation_data=(X_test, y_test),\n",
    "                    verbose=1).history"
   ]
  },
  {
   "cell_type": "code",
   "execution_count": 30,
   "metadata": {},
   "outputs": [
    {
     "data": {
      "text/plain": [
       "Text(0.5, 1.0, 'Training Loss vs Validation Loss')"
      ]
     },
     "execution_count": 30,
     "metadata": {},
     "output_type": "execute_result"
    },
    {
     "data": {
      "image/png": "[encoded data removed]",
      "text/plain": [
       "<Figure size 720x360 with 1 Axes>"
      ]
     },
     "metadata": {},
     "output_type": "display_data"
    }
   ],
   "source": [
    "evaluation_metrics=pd.DataFrame(history)\n",
    "evaluation_metrics.plot(figsize=(10,5))\n",
    "plt.title(\"Training Loss vs Validation Loss\", size = 20)"
   ]
  },
  {
   "cell_type": "code",
   "execution_count": 31,
   "metadata": {},
   "outputs": [
    {
     "name": "stdout",
     "output_type": "stream",
     "text": [
      "WARNING:tensorflow:From <ipython-input-31-a9576f512d74>:1: Sequential.predict_classes (from tensorflow.python.keras.engine.sequential) is deprecated and will be removed after 2021-01-01.\n",
      "Instructions for updating:\n",
      "Please use instead:* `np.argmax(model.predict(x), axis=-1)`,   if your model does multi-class classification   (e.g. if it uses a `softmax` last-layer activation).* `(model.predict(x) > 0.5).astype(\"int32\")`,   if your model does binary classification   (e.g. if it uses a `sigmoid` last-layer activation).\n",
      "F1 Score: 0.8275613563666555\n"
     ]
    },
    {
     "data": {
      "image/png": "[encoded data removed]",
      "text/plain": [
       "<Figure size 576x432 with 1 Axes>"
      ]
     },
     "metadata": {},
     "output_type": "display_data"
    }
   ],
   "source": [
    "y_pred = model.predict_classes(X_test)\n",
    "\n",
    "\n",
    "plot_cf(y_test, y_pred)\n",
    "print_f1(y_test, y_pred)"
   ]
  },
  {
   "cell_type": "markdown",
   "metadata": {},
   "source": [
    "### Observation:\n",
    "If we compare this with the XGBoost or RandomForest model, the little problem here is that, it is doing very good prediction for the majority class, which is 0 or \"No Fraud\" cases, but for minority class, which is 1 or \"Fraud\" cases, it is performing a little less. But I guess with a little more hyperparamters tuning, the model will be able to perform better than the XGBoost or RandomForest even for minority class."
   ]
  },
  {
   "cell_type": "code",
   "execution_count": null,
   "metadata": {},
   "outputs": [],
   "source": []
  },
  {
   "cell_type": "markdown",
   "metadata": {},
   "source": [
    "### Project Task: Week 4\n",
    "\n",
    "Inference and Observations:\n",
    "\n",
    "Visualize the scores for Fraudulent and Non-Fraudulent transactions.\n",
    "Find out the threshold value for marking or reporting a transaction as fraudulent in your anomaly detection system.\n",
    "Can this score be used as an engineered feature in the models developed previously? Are there any incremental gains in F1-Score? Why or Why not?\n",
    "Be as creative as possible in finding other interesting insights."
   ]
  },
  {
   "cell_type": "code",
   "execution_count": null,
   "metadata": {},
   "outputs": [],
   "source": []
  },
  {
   "cell_type": "code",
   "execution_count": null,
   "metadata": {},
   "outputs": [],
   "source": []
  },
  {
   "cell_type": "code",
   "execution_count": null,
   "metadata": {},
   "outputs": [],
   "source": []
  },
  {
   "cell_type": "code",
   "execution_count": null,
   "metadata": {},
   "outputs": [],
   "source": []
  },
  {
   "cell_type": "code",
   "execution_count": null,
   "metadata": {},
   "outputs": [],
   "source": []
  },
  {
   "cell_type": "code",
   "execution_count": null,
   "metadata": {},
   "outputs": [],
   "source": []
  },
  {
   "cell_type": "code",
   "execution_count": null,
   "metadata": {},
   "outputs": [],
   "source": []
  }
 ],
 "metadata": {
  "kernelspec": {
   "display_name": "Python 3",
   "language": "python",
   "name": "python3"
  },
  "language_info": {
   "codemirror_mode": {
    "name": "ipython",
    "version": 3
   },
   "file_extension": ".py",
   "mimetype": "text/x-python",
   "name": "python",
   "nbconvert_exporter": "python",
   "pygments_lexer": "ipython3",
   "version": "3.8.3"
  }
 },
 "nbformat": 4,
 "nbformat_minor": 4
}
